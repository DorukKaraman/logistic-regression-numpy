{
  "cells": [
    {
      "cell_type": "markdown",
      "id": "1cac60e0",
      "metadata": {},
      "source": [
        "# Logistic Regression from Scratch using NumPy\n",
        "\n",
        "This notebook provides a complete implementation of the **Logistic Regression** classification algorithm, including key components like the Sigmoid activation function, Binary Cross-Entropy loss, and Gradient Descent, all built using **NumPy** for optimized computation.\n",
        "\n",
        "The model is trained using Mini-Batch Gradient Descent and evaluated on separate Validation and Test sets."
      ]
    },
    {
      "cell_type": "markdown",
      "id": "f30d4413",
      "metadata": {},
      "source": [
        "## 1. Setup and Configuration"
      ]
    },
    {
      "cell_type": "code",
      "execution_count": 1,
      "id": "db1d7251",
      "metadata": {},
      "outputs": [
        {
          "name": "stderr",
          "output_type": "stream",
          "text": [
            "/Users/doruk/opt/anaconda3/lib/python3.9/site-packages/scipy/__init__.py:155: UserWarning: A NumPy version >=1.18.5 and <1.25.0 is required for this version of SciPy (detected version 1.26.4\n",
            "  warnings.warn(f\"A NumPy version >={np_minversion} and <{np_maxversion}\"\n"
          ]
        }
      ],
      "source": [
        "import numpy as np\n",
        "import pandas as pd\n",
        "import matplotlib.pyplot as plt\n",
        "from sklearn.model_selection import train_test_split\n",
        "from sklearn.metrics import confusion_matrix as sk_confusion_matrix\n",
        "import warnings\n",
        "warnings.filterwarnings(\"ignore\") # Ignore potential RuntimeWarning related to np.log(0)\n",
        "\n",
        "# --- Configuration ---\n",
        "DATA_FILE = 'data/dataset.csv'\n",
        "TEST_SIZE = 0.20  # 20% for final test set\n",
        "VAL_SIZE = 0.10   # 10% for validation set\n",
        "RANDOM_SEED = 42"
      ]
    },
    {
      "cell_type": "markdown",
      "id": "6b6a91bd",
      "metadata": {},
      "source": [
        "## 2. Data Loading and Preprocessing\n",
        "\n",
        "The dataset is loaded and split into Train (70%), Validation (10%), and Test (20%) sets. A simple Min-Max scaling is applied for feature normalization."
      ]
    },
    {
      "cell_type": "code",
      "execution_count": 5,
      "id": "0e1b3b9c",
      "metadata": {},
      "outputs": [
        {
          "name": "stdout",
          "output_type": "stream",
          "text": [
            "Data loaded. Total samples: 60000\n",
            "Train: 42000, Validation: 6000, Test: 12000\n"
          ]
        }
      ],
      "source": [
        "def load_and_split_data(file_path):\n",
        "    \"\"\"Loads data, handles initial cleaning, and performs the 70/10/20 split.\"\"\"\n",
        "    try:\n",
        "        # Load data, assuming no header (header=None) and first row/column are not data (skip initial 1:)\n",
        "        input_data = pd.read_csv(file_path, sep=',', header=None)\n",
        "        data = input_data.iloc[1:].apply(pd.to_numeric)\n",
        "        \n",
        "        X_full = data.values[:, :-1] # All features\n",
        "        y_full = data.values[:, -1].astype(int) # Target variable\n",
        "        \n",
        "        # 1. Split out Test set (20%)\n",
        "        X_temp, X_test, y_temp, y_test = train_test_split(\n",
        "            X_full, y_full, test_size=TEST_SIZE, random_state=RANDOM_SEED, stratify=y_full\n",
        "        )\n",
        "        \n",
        "        # Recalculate validation size relative to the remaining data (10% of total / 80% remaining = 12.5%)\n",
        "        val_size_relative = VAL_SIZE / (1.0 - TEST_SIZE)\n",
        "        \n",
        "        # 2. Split Temp into Train (70%) and Validation (10%)\n",
        "        X_train, X_val, y_train, y_val = train_test_split(\n",
        "            X_temp, y_temp, test_size=val_size_relative, random_state=RANDOM_SEED, stratify=y_temp\n",
        "        )\n",
        "        \n",
        "        print(f\"Data loaded. Total samples: {len(data)}\")\n",
        "        print(f\"Train: {len(X_train)}, Validation: {len(X_val)}, Test: {len(X_test)}\")\n",
        "        \n",
        "        return X_train, y_train, X_val, y_val, X_test, y_test\n",
        "    \n",
        "    except FileNotFoundError:\n",
        "        print(f\"ERROR: Data file not found at {DATA_FILE}.\")\n",
        "        print(\"Please ensure you have created the `data/` directory and placed `dataset.csv` inside.\")\n",
        "        import sys; sys.exit()\n",
        "        \n",
        "X_train, y_train, X_val, y_val, X_test, y_test = load_and_split_data(DATA_FILE)\n",
        "\n",
        "# --- Normalization Parameters ---\n",
        "# Parameters are calculated ONLY from the training data to prevent data leakage\n",
        "min_val = X_train.min(axis=0)\n",
        "max_val = X_train.max(axis=0)\n",
        "range_val = max_val - min_val\n",
        "\n",
        "def normalize(X):\n",
        "    \"\"\"Applies Min-Max normalization based on training set parameters.\"\"\"\n",
        "    return (X - min_val) / (range_val + 1e-8) # Added epsilon for stability\n",
        "\n",
        "X_train_norm = normalize(X_train)\n",
        "X_val_norm = normalize(X_val)\n",
        "X_test_norm = normalize(X_test)"
      ]
    },
    {
      "cell_type": "markdown",
      "id": "73d4d05e",
      "metadata": {},
      "source": [
        "## 3. Logistic Regression Class Implementation\n",
        "\n",
        "A class-based implementation for better structure and reusability."
      ]
    },
    {
      "cell_type": "code",
      "execution_count": null,
      "id": "f9667aa3",
      "metadata": {},
      "outputs": [],
      "source": [
        "class CustomLogisticRegression:\n",
        "    \n",
        "    def __init__(self, n_features):\n",
        "        # Initialize weights (w) and bias (b). w will be of shape (n_features, 1).\n",
        "        self.n_features = n_features\n",
        "        self.w = np.zeros((n_features, 1))\n",
        "        self.b = 0.0\n",
        "        self.losses = []\n",
        "\n",
        "    def _sigmoid(self, z):\n",
        "        \"\"\"The sigmoid activation function.\"\"\"\n",
        "        return 1.0 / (1 + np.exp(-z))\n",
        "\n",
        "    def _binary_cross_entropy_loss(self, y_true, y_pred_proba):\n",
        "        \"\"\"Calculates the average Binary Cross-Entropy Loss.\"\"\"\n",
        "        m = len(y_true) # Number of samples in the batch/dataset\n",
        "        # Reshape y_true to match y_pred_proba for element-wise operations\n",
        "        y_true = y_true.reshape(-1, 1)\n",
        "        \n",
        "        # Clip predictions to prevent log(0) which causes RuntimeWarning/NaN\n",
        "        y_pred_proba = np.clip(y_pred_proba, 1e-15, 1 - 1e-15)\n",
        "        \n",
        "        # J = -1/m * sum( y * log(h) + (1-y) * log(1-h) )\n",
        "        loss_val = (-1/m) * np.sum(y_true * np.log(y_pred_proba) + (1 - y_true) * np.log(1 - y_pred_proba))\n",
        "        return loss_val\n",
        "    \n",
        "    def _initialize_weights(self, weight_init_type):\n",
        "        \"\"\"Initializes weights based on the specified type (0: Normal, 1: Uniform, default: Zeros).\"\"\"\n",
        "        np.random.seed(RANDOM_SEED) # Ensure reproducibility\n",
        "        \n",
        "        if weight_init_type == 0:\n",
        "            self.w = np.random.normal(0, 1, (self.n_features, 1))\n",
        "            self.b = np.random.normal(0, 1)\n",
        "        elif weight_init_type == 1:\n",
        "            # Using a simple 1/n initialization\n",
        "            init_val = 1 / (self.n_features + 1)\n",
        "            self.w = np.full((self.n_features, 1), init_val)\n",
        "            self.b = init_val\n",
        "        else: # Default: Zeros\n",
        "            self.w = np.zeros((self.n_features, 1))\n",
        "            self.b = 0.0\n",
        "            \n",
        "    def train(self, X, y, batch_size, epochs, learning_rate, weight_init_type=0):\n",
        "        \"\"\"Trains the model using Mini-Batch Gradient Descent.\"\"\"\n",
        "        m = X.shape[0] # Number of training examples\n",
        "        self._initialize_weights(weight_init_type)\n",
        "        y_reshaped = y.reshape(-1, 1)\n",
        "        \n",
        "        for epoch in range(epochs):\n",
        "            # Create mini-batches\n",
        "            for i in range(0, m, batch_size):\n",
        "                X_batch = X[i:i + batch_size]\n",
        "                y_batch = y_reshaped[i:i + batch_size]\n",
        "                m_batch = X_batch.shape[0]\n",
        "                \n",
        "                # 1. Forward Pass: Calculate hypothesis (h)\n",
        "                z = np.dot(X_batch, self.w) + self.b\n",
        "                h = self._sigmoid(z)\n",
        "                \n",
        "                # 2. Backpropagation: Calculate gradients (dw, db)\n",
        "                error = h - y_batch\n",
        "                \n",
        "                dw = (1/m_batch) * np.dot(X_batch.T, error)\n",
        "                db = (1/m_batch) * np.sum(error)\n",
        "                \n",
        "                # 3. Update parameters\n",
        "                self.w -= learning_rate * dw\n",
        "                self.b -= learning_rate * db\n",
        "            \n",
        "            # Calculate and store loss over the entire training set\n",
        "            z_full = np.dot(X, self.w) + self.b\n",
        "            h_full = self._sigmoid(z_full)\n",
        "            current_loss = self._binary_cross_entropy_loss(y, h_full)\n",
        "            self.losses.append(current_loss)\n",
        "            \n",
        "            # Optional: Print loss every N epochs\n",
        "            # if (epoch + 1) % 10 == 0: print(f\"Epoch {epoch+1}/{epochs} Loss: {current_loss:.4f}\")\n",
        "            \n",
        "        return self.w, self.b, self.losses\n",
        "\n",
        "    def predict_proba(self, X):\n",
        "        \"\"\"Calculates the probability P(y=1 | X).\"\"\"\n",
        "        z = np.dot(X, self.w) + self.b\n",
        "        return self._sigmoid(z)\n",
        "    \n",
        "    def predict(self, X):\n",
        "        \"\"\"Returns class predictions (0 or 1).\"\"\"\n",
        "        probabilities = self.predict_proba(X)\n",
        "        # Threshold at 0.5\n",
        "        predictions = (probabilities >= 0.5).astype(int)\n",
        "        return predictions.flatten()\n",
        "    \n",
        "    def evaluate(self, y_true, y_pred):\n",
        "        \"\"\"Calculates accuracy and confusion matrix.\"\"\"\n",
        "        accuracy = np.sum(y_pred == y_true) / len(y_true) * 100\n",
        "        \n",
        "        # Simplified confusion matrix calculation (using sklearn for validation)\n",
        "        # Format: [[TN, FP], [FN, TP]]\n",
        "        cm = sk_confusion_matrix(y_true, y_pred, labels=[0, 1])\n",
        "        \n",
        "        # Map to the format used in the original code: [[TP, FP], [FN, TN]]\n",
        "        TP, FN = cm[1, 1], cm[1, 0]\n",
        "        FP, TN = cm[0, 1], cm[0, 0]\n",
        "        \n",
        "        # Returning the custom format: [[TP, FP], [FN, TN]]\n",
        "        custom_cm = np.array([ [TP, FP], [FN, TN] ])\n",
        "        \n",
        "        return accuracy, custom_cm"
      ]
    },
    {
      "cell_type": "markdown",
      "id": "2579db50",
      "metadata": {},
      "source": [
        "## 4. Model Training and Evaluation"
      ]
    },
    {
      "cell_type": "code",
      "execution_count": 8,
      "id": "d9ec5dad",
      "metadata": {},
      "outputs": [
        {
          "name": "stdout",
          "output_type": "stream",
          "text": [
            "Number of Features: 12\n",
            "\n",
            "--- Full Batch Gradient Descent Results ---\n",
            "Validation Accuracy: 78.80%\n",
            "\n",
            "--- Mini-Batch Gradient Descent (Batch Size=64) Results ---\n",
            "Validation Accuracy: 81.42%\n",
            "Confusion Matrix (Mini-Batch) [ [TP, FP], [FN, TN] ]:\n",
            "[[1691  634]\n",
            " [ 481 3194]]\n"
          ]
        }
      ],
      "source": [
        "# Determine the number of features\n",
        "N_FEATURES = X_train_norm.shape[1]\n",
        "\n",
        "print(f\"Number of Features: {N_FEATURES}\\n\")\n",
        "\n",
        "# --- Experiment 1: Full Batch Gradient Descent ---\n",
        "model_full = CustomLogisticRegression(N_FEATURES)\n",
        "w_full, b_full, losses_full = model_full.train(\n",
        "    X=X_train_norm, \n",
        "    y=y_train, \n",
        "    batch_size=len(X_train_norm), \n",
        "    epochs=100, \n",
        "    learning_rate=1.0, \n",
        "    weight_init_type=0\n",
        ")\n",
        "\n",
        "y_pred_val_full = model_full.predict(X_val_norm)\n",
        "acc_val_full, cm_full = model_full.evaluate(y_val, y_pred_val_full)\n",
        "\n",
        "print(\"--- Full Batch Gradient Descent Results ---\")\n",
        "print(f\"Validation Accuracy: {acc_val_full:.2f}%\")\n",
        "\n",
        "# --- Experiment 2: Mini-Batch Gradient Descent ---\n",
        "model_mini = CustomLogisticRegression(N_FEATURES)\n",
        "w_mini, b_mini, losses_mini = model_mini.train(\n",
        "    X=X_train_norm, \n",
        "    y=y_train, \n",
        "    batch_size=64, \n",
        "    epochs=100, \n",
        "    learning_rate=1.0, \n",
        "    weight_init_type=0\n",
        ")\n",
        "\n",
        "y_pred_val_mini = model_mini.predict(X_val_norm)\n",
        "acc_val_mini, cm_mini = model_mini.evaluate(y_val, y_pred_val_mini)\n",
        "\n",
        "print(\"\\n--- Mini-Batch Gradient Descent (Batch Size=64) Results ---\")\n",
        "print(f\"Validation Accuracy: {acc_val_mini:.2f}%\")\n",
        "print(\"Confusion Matrix (Mini-Batch) [ [TP, FP], [FN, TN] ]:\")\n",
        "print(cm_mini)"
      ]
    },
    {
      "cell_type": "markdown",
      "id": "14092854",
      "metadata": {},
      "source": [
        "## 5. Loss Visualization"
      ]
    },
    {
      "cell_type": "code",
      "execution_count": 9,
      "id": "5a454def",
      "metadata": {},
      "outputs": [
        {
          "data": {
            "image/png": "[encoded data removed]",
            "text/plain": [
              "<Figure size 1000x600 with 1 Axes>"
            ]
          },
          "metadata": {},
          "output_type": "display_data"
        }
      ],
      "source": [
        "plt.figure(figsize=(10, 6))\n",
        "plt.plot(losses_full, label='Full Batch Loss', marker='.')\n",
        "plt.plot(losses_mini, label='Mini Batch Loss (BS=64)', marker='.')\n",
        "plt.title('Training Loss per Epoch')\n",
        "plt.xlabel('Epoch')\n",
        "plt.ylabel('Binary Cross-Entropy Loss')\n",
        "plt.legend()\n",
        "plt.grid(True)\n",
        "plt.show()"
      ]
    },
    {
      "cell_type": "markdown",
      "id": "e349e3f6",
      "metadata": {},
      "source": [
        "## 6. Final Test Set Evaluation (Using Mini-Batch Model)"
      ]
    },
    {
      "cell_type": "code",
      "execution_count": 10,
      "id": "3308982d",
      "metadata": {},
      "outputs": [
        {
          "name": "stdout",
          "output_type": "stream",
          "text": [
            "Final Test Set Accuracy: 80.55%\n",
            "Final Test Set Confusion Matrix [ [TP, FP], [FN, TN] ]:\n",
            "[[3315 1305]\n",
            " [1029 6351]]\n"
          ]
        }
      ],
      "source": [
        "y_pred_test = model_mini.predict(X_test_norm)\n",
        "acc_test, cm_test = model_mini.evaluate(y_test, y_pred_test)\n",
        "\n",
        "print(f\"Final Test Set Accuracy: {acc_test:.2f}%\")\n",
        "print(\"Final Test Set Confusion Matrix [ [TP, FP], [FN, TN] ]:\")\n",
        "print(cm_test)"
      ]
    }
  ],
  "metadata": {
    "kernelspec": {
      "display_name": "base",
      "language": "python",
      "name": "python3"
    },
    "language_info": {
      "codemirror_mode": {
        "name": "ipython",
        "version": 3
      },
      "file_extension": ".py",
      "mimetype": "text/x-python",
      "name": "python",
      "nbconvert_exporter": "python",
      "pygments_lexer": "ipython3",
      "version": "3.9.13"
    },
    "title": "Logistic Regression from Scratch using NumPy"
  },
  "nbformat": 4,
  "nbformat_minor": 5
}
